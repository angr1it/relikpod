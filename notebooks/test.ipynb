{
 "cells": [
  {
   "cell_type": "code",
   "execution_count": 5,
   "metadata": {},
   "outputs": [],
   "source": [
    "from relikpod.utils.coref import coref_text"
   ]
  },
  {
   "cell_type": "code",
   "execution_count": 6,
   "metadata": {},
   "outputs": [
    {
     "data": {
      "text/plain": [
       "' HJello world !'"
      ]
     },
     "execution_count": 6,
     "metadata": {},
     "output_type": "execute_result"
    }
   ],
   "source": [
    "coref_text(\"HJello world!\")"
   ]
  },
  {
   "cell_type": "code",
   "execution_count": null,
   "metadata": {},
   "outputs": [],
   "source": [
    "from relikpod.process.relik_index import process_index_query\n",
    "from relikpod.schemas.index import RelikpodIndexRequest, Neo4jConfig, Document\n",
    "\n",
    "\n",
    "neo4j = Neo4jConfig(\n",
    "    url=\"neo4j+s://f0f3fc65.databases.neo4j.io\",\n",
    "    username=\"neo4j\",\n",
    "    password=\"RztKNeIArIfiX6jE-XzwPgtwZrHgecltVLYxckNkaKY\",\n",
    ")\n",
    "\n",
    "resp = process_index_query(\n",
    "    RelikpodIndexRequest(\n",
    "        neo4j=neo4j,\n",
    "        documents=[\n",
    "            Document(\n",
    "                document_id=\"michael_jordan_the_best\",\n",
    "                text=\"Michael Jordan was a great basketball player. He won 6 NBA championships.\",\n",
    "            )\n",
    "        ],\n",
    "    )\n",
    ")"
   ]
  }
 ],
 "metadata": {
  "kernelspec": {
   "display_name": "Python 3",
   "language": "python",
   "name": "python3"
  },
  "language_info": {
   "codemirror_mode": {
    "name": "ipython",
    "version": 3
   },
   "file_extension": ".py",
   "mimetype": "text/x-python",
   "name": "python",
   "nbconvert_exporter": "python",
   "pygments_lexer": "ipython3",
   "version": "3.10.12"
  }
 },
 "nbformat": 4,
 "nbformat_minor": 2
}
